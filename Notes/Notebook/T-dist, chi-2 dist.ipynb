{
 "cells": [
  {
   "cell_type": "code",
   "execution_count": 1,
   "id": "a9448efd",
   "metadata": {},
   "outputs": [],
   "source": [
    "from scipy.stats import chi2\n",
    "from scipy.stats import t\n",
    "mean, var, skew, kurt = chi2.stats(10, moments='mvsk')\n",
    "mean, var = t.stats(100, moments='mv')"
   ]
  },
  {
   "cell_type": "code",
   "execution_count": 2,
   "id": "551e1c63",
   "metadata": {},
   "outputs": [
    {
     "data": {
      "text/plain": [
       "array(0.)"
      ]
     },
     "execution_count": 2,
     "metadata": {},
     "output_type": "execute_result"
    }
   ],
   "source": [
    "mean"
   ]
  },
  {
   "cell_type": "code",
   "execution_count": 27,
   "id": "a489e0a6",
   "metadata": {},
   "outputs": [
    {
     "data": {
      "text/plain": [
       "array(1.02040816)"
      ]
     },
     "execution_count": 27,
     "metadata": {},
     "output_type": "execute_result"
    }
   ],
   "source": [
    "var"
   ]
  },
  {
   "cell_type": "code",
   "execution_count": 28,
   "id": "9504ec36",
   "metadata": {},
   "outputs": [],
   "source": [
    "#?t.stats"
   ]
  },
  {
   "cell_type": "code",
   "execution_count": 9,
   "id": "d7d73438",
   "metadata": {},
   "outputs": [
    {
     "data": {
      "text/plain": [
       "0.9750751904211159"
      ]
     },
     "execution_count": 9,
     "metadata": {},
     "output_type": "execute_result"
    }
   ],
   "source": [
    "t.cdf(2.264,9)"
   ]
  },
  {
   "cell_type": "code",
   "execution_count": 10,
   "id": "c93d7a24",
   "metadata": {},
   "outputs": [],
   "source": [
    "#?t"
   ]
  },
  {
   "cell_type": "code",
   "execution_count": 11,
   "id": "c84157f6",
   "metadata": {},
   "outputs": [
    {
     "data": {
      "text/plain": [
       "2.2621571627409915"
      ]
     },
     "execution_count": 11,
     "metadata": {},
     "output_type": "execute_result"
    }
   ],
   "source": [
    "#For computing the values in t-distribution given the CDF\n",
    "t.ppf(0.975,9)"
   ]
  },
  {
   "cell_type": "code",
   "execution_count": 17,
   "id": "6e464778",
   "metadata": {},
   "outputs": [
    {
     "data": {
      "text/plain": [
       "0.0"
      ]
     },
     "execution_count": 17,
     "metadata": {},
     "output_type": "execute_result"
    }
   ],
   "source": [
    "import numpy as np\n",
    "np.round(t.ppf(0.5,9),3)"
   ]
  },
  {
   "cell_type": "code",
   "execution_count": 29,
   "id": "b9191605",
   "metadata": {},
   "outputs": [
    {
     "data": {
      "text/plain": [
       "0.2303619892291386"
      ]
     },
     "execution_count": 29,
     "metadata": {},
     "output_type": "execute_result"
    }
   ],
   "source": [
    "t.pdf(1,10)"
   ]
  },
  {
   "cell_type": "code",
   "execution_count": 18,
   "id": "93e2493d",
   "metadata": {},
   "outputs": [
    {
     "data": {
      "text/plain": [
       "0.82955343384897"
      ]
     },
     "execution_count": 18,
     "metadata": {},
     "output_type": "execute_result"
    }
   ],
   "source": [
    "t.cdf(1,10)"
   ]
  },
  {
   "cell_type": "code",
   "execution_count": 19,
   "id": "50a7f9bb",
   "metadata": {},
   "outputs": [
    {
     "data": {
      "text/plain": [
       "0.17044656615103004"
      ]
     },
     "execution_count": 19,
     "metadata": {},
     "output_type": "execute_result"
    }
   ],
   "source": [
    "t.cdf(-1,10)"
   ]
  },
  {
   "cell_type": "code",
   "execution_count": 20,
   "id": "7614147d",
   "metadata": {},
   "outputs": [
    {
     "data": {
      "text/plain": [
       "0.6591068676979399"
      ]
     },
     "execution_count": 20,
     "metadata": {},
     "output_type": "execute_result"
    }
   ],
   "source": [
    "t.cdf(1,10)-t.cdf(-1,10)"
   ]
  },
  {
   "cell_type": "code",
   "execution_count": 23,
   "id": "920c7ca0",
   "metadata": {},
   "outputs": [
    {
     "data": {
      "text/plain": [
       "1.0"
      ]
     },
     "execution_count": 23,
     "metadata": {},
     "output_type": "execute_result"
    }
   ],
   "source": [
    "chi2.cdf(100,10)"
   ]
  },
  {
   "cell_type": "code",
   "execution_count": 24,
   "id": "099b463e",
   "metadata": {},
   "outputs": [
    {
     "data": {
      "text/plain": [
       "2.5113930312030086e-17"
      ]
     },
     "execution_count": 24,
     "metadata": {},
     "output_type": "execute_result"
    }
   ],
   "source": [
    "chi2.pdf(100,10)"
   ]
  },
  {
   "cell_type": "code",
   "execution_count": null,
   "id": "63381b4c",
   "metadata": {},
   "outputs": [],
   "source": []
  }
 ],
 "metadata": {
  "kernelspec": {
   "display_name": "Python 3",
   "language": "python",
   "name": "python3"
  },
  "language_info": {
   "codemirror_mode": {
    "name": "ipython",
    "version": 3
   },
   "file_extension": ".py",
   "mimetype": "text/x-python",
   "name": "python",
   "nbconvert_exporter": "python",
   "pygments_lexer": "ipython3",
   "version": "3.8.8"
  }
 },
 "nbformat": 4,
 "nbformat_minor": 5
}
