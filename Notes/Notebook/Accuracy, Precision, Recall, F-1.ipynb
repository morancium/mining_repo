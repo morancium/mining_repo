{
 "cells": [
  {
   "cell_type": "code",
   "execution_count": 1,
   "id": "8e185313",
   "metadata": {},
   "outputs": [
    {
     "data": {
      "text/plain": [
       "array([[5, 1, 0],\n",
       "       [2, 3, 1],\n",
       "       [0, 0, 4]], dtype=int64)"
      ]
     },
     "execution_count": 1,
     "metadata": {},
     "output_type": "execute_result"
    }
   ],
   "source": [
    "#Confusion Matrix:\n",
    "from sklearn.metrics import confusion_matrix\n",
    "y_true = [0, 0, 2, 2, 0, 1, 1, 1, 0, 2, 1, 1, 0, 0, 1, 2]\n",
    "y_pred = [0, 0, 2, 2, 0, 2, 0, 1, 0, 2, 0, 1, 1, 0, 1, 2]\n",
    "confusion_matrix(y_true, y_pred)"
   ]
  },
  {
   "cell_type": "code",
   "execution_count": 2,
   "id": "90811c0d",
   "metadata": {},
   "outputs": [
    {
     "name": "stdout",
     "output_type": "stream",
     "text": [
      "              precision    recall  f1-score   support\n",
      "\n",
      "     class 0       0.71      0.83      0.77         6\n",
      "     class 1       0.75      0.50      0.60         6\n",
      "     class 2       0.80      1.00      0.89         4\n",
      "\n",
      "    accuracy                           0.75        16\n",
      "   macro avg       0.75      0.78      0.75        16\n",
      "weighted avg       0.75      0.75      0.74        16\n",
      "\n"
     ]
    }
   ],
   "source": [
    "from sklearn.metrics import classification_report\n",
    "target_names = ['class 0', 'class 1', 'class 2']\n",
    "print(classification_report(y_true, y_pred, target_names=target_names))"
   ]
  },
  {
   "cell_type": "code",
   "execution_count": null,
   "id": "25c57a43",
   "metadata": {},
   "outputs": [],
   "source": []
  }
 ],
 "metadata": {
  "kernelspec": {
   "display_name": "Python 3",
   "language": "python",
   "name": "python3"
  },
  "language_info": {
   "codemirror_mode": {
    "name": "ipython",
    "version": 3
   },
   "file_extension": ".py",
   "mimetype": "text/x-python",
   "name": "python",
   "nbconvert_exporter": "python",
   "pygments_lexer": "ipython3",
   "version": "3.8.8"
  }
 },
 "nbformat": 4,
 "nbformat_minor": 5
}
