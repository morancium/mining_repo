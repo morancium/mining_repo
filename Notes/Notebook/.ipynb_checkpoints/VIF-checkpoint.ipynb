{
 "cells": [
  {
   "cell_type": "code",
   "execution_count": 2,
   "metadata": {
    "id": "3XRpG5AIul_B"
   },
   "outputs": [],
   "source": [
    "import pandas as pd\n",
    "import numpy as np\n",
    "import matplotlib.pyplot as plt\n",
    "%matplotlib inline"
   ]
  },
  {
   "cell_type": "markdown",
   "metadata": {
    "id": "2_PT27zDbojT"
   },
   "source": [
    "Dataset:\n",
    "5 columns- Independent Variables a,b,c,d ; Dependant Variable - Output"
   ]
  },
  {
   "cell_type": "code",
   "execution_count": 3,
   "metadata": {
    "colab": {
     "base_uri": "https://localhost:8080/",
     "height": 205
    },
    "id": "tZZtPl-bb6mr",
    "outputId": "481334df-8dbb-4bd4-9990-93e30d0d0fbf"
   },
   "outputs": [
    {
     "name": "stdout",
     "output_type": "stream",
     "text": [
      "(30, 5)\n"
     ]
    },
    {
     "data": {
      "text/html": [
       "<div>\n",
       "<style scoped>\n",
       "    .dataframe tbody tr th:only-of-type {\n",
       "        vertical-align: middle;\n",
       "    }\n",
       "\n",
       "    .dataframe tbody tr th {\n",
       "        vertical-align: top;\n",
       "    }\n",
       "\n",
       "    .dataframe thead th {\n",
       "        text-align: right;\n",
       "    }\n",
       "</style>\n",
       "<table border=\"1\" class=\"dataframe\">\n",
       "  <thead>\n",
       "    <tr style=\"text-align: right;\">\n",
       "      <th></th>\n",
       "      <th>a</th>\n",
       "      <th>b</th>\n",
       "      <th>c</th>\n",
       "      <th>d</th>\n",
       "      <th>Output</th>\n",
       "    </tr>\n",
       "  </thead>\n",
       "  <tbody>\n",
       "    <tr>\n",
       "      <th>0</th>\n",
       "      <td>66</td>\n",
       "      <td>132</td>\n",
       "      <td>250</td>\n",
       "      <td>486</td>\n",
       "      <td>1173</td>\n",
       "    </tr>\n",
       "    <tr>\n",
       "      <th>1</th>\n",
       "      <td>73</td>\n",
       "      <td>73</td>\n",
       "      <td>368</td>\n",
       "      <td>545</td>\n",
       "      <td>1605</td>\n",
       "    </tr>\n",
       "    <tr>\n",
       "      <th>2</th>\n",
       "      <td>64</td>\n",
       "      <td>158</td>\n",
       "      <td>350</td>\n",
       "      <td>588</td>\n",
       "      <td>1652</td>\n",
       "    </tr>\n",
       "    <tr>\n",
       "      <th>3</th>\n",
       "      <td>39</td>\n",
       "      <td>51</td>\n",
       "      <td>347</td>\n",
       "      <td>446</td>\n",
       "      <td>1520</td>\n",
       "    </tr>\n",
       "    <tr>\n",
       "      <th>4</th>\n",
       "      <td>54</td>\n",
       "      <td>90</td>\n",
       "      <td>229</td>\n",
       "      <td>377</td>\n",
       "      <td>1095</td>\n",
       "    </tr>\n",
       "    <tr>\n",
       "      <th>5</th>\n",
       "      <td>36</td>\n",
       "      <td>169</td>\n",
       "      <td>331</td>\n",
       "      <td>568</td>\n",
       "      <td>1539</td>\n",
       "    </tr>\n",
       "    <tr>\n",
       "      <th>6</th>\n",
       "      <td>92</td>\n",
       "      <td>153</td>\n",
       "      <td>215</td>\n",
       "      <td>484</td>\n",
       "      <td>1114</td>\n",
       "    </tr>\n",
       "    <tr>\n",
       "      <th>7</th>\n",
       "      <td>95</td>\n",
       "      <td>105</td>\n",
       "      <td>396</td>\n",
       "      <td>615</td>\n",
       "      <td>1809</td>\n",
       "    </tr>\n",
       "    <tr>\n",
       "      <th>8</th>\n",
       "      <td>91</td>\n",
       "      <td>142</td>\n",
       "      <td>356</td>\n",
       "      <td>625</td>\n",
       "      <td>1635</td>\n",
       "    </tr>\n",
       "    <tr>\n",
       "      <th>9</th>\n",
       "      <td>76</td>\n",
       "      <td>130</td>\n",
       "      <td>251</td>\n",
       "      <td>462</td>\n",
       "      <td>1251</td>\n",
       "    </tr>\n",
       "  </tbody>\n",
       "</table>\n",
       "</div>"
      ],
      "text/plain": [
       "    a    b    c    d  Output\n",
       "0  66  132  250  486    1173\n",
       "1  73   73  368  545    1605\n",
       "2  64  158  350  588    1652\n",
       "3  39   51  347  446    1520\n",
       "4  54   90  229  377    1095\n",
       "5  36  169  331  568    1539\n",
       "6  92  153  215  484    1114\n",
       "7  95  105  396  615    1809\n",
       "8  91  142  356  625    1635\n",
       "9  76  130  251  462    1251"
      ]
     },
     "execution_count": 3,
     "metadata": {},
     "output_type": "execute_result"
    }
   ],
   "source": [
    "Score = pd.read_csv(\"VIF.csv\")\n",
    "print(Score.shape)\n",
    "Score.head(10)"
   ]
  },
  {
   "cell_type": "code",
   "execution_count": 4,
   "metadata": {
    "colab": {
     "base_uri": "https://localhost:8080/"
    },
    "id": "-VydnIJNcYRc",
    "outputId": "8aa5aec8-065d-487a-8ede-262beb8f154f"
   },
   "outputs": [],
   "source": [
    "#preparing the data\n",
    "X = Score.drop('Output', axis=1)\n",
    "y = Score['Output']\n"
   ]
  },
  {
   "cell_type": "code",
   "execution_count": 5,
   "metadata": {
    "colab": {
     "base_uri": "https://localhost:8080/"
    },
    "id": "mbj4N52MdqkY",
    "outputId": "98ac08e8-0b79-4b1d-cc7f-80ee4833778f"
   },
   "outputs": [
    {
     "data": {
      "text/plain": [
       "LinearRegression()"
      ]
     },
     "execution_count": 5,
     "metadata": {},
     "output_type": "execute_result"
    }
   ],
   "source": [
    "from sklearn.linear_model import LinearRegression\n",
    "regressor = LinearRegression()\n",
    "regressor.fit(X, y)"
   ]
  },
  {
   "cell_type": "code",
   "execution_count": null,
   "metadata": {},
   "outputs": [],
   "source": []
  },
  {
   "cell_type": "code",
   "execution_count": 6,
   "metadata": {
    "colab": {
     "base_uri": "https://localhost:8080/"
    },
    "id": "R7HbqcsFd-a5",
    "outputId": "882014aa-69f2-4b41-9c3d-94309df0a9a7"
   },
   "outputs": [
    {
     "name": "stdout",
     "output_type": "stream",
     "text": [
      "47.384818162520105\n",
      "[ 2.09810179  2.13255465  5.20074621 -1.18898091]\n"
     ]
    }
   ],
   "source": [
    "#printing parameters:\n",
    "print(regressor.intercept_)\n",
    "print(regressor.coef_)"
   ]
  },
  {
   "cell_type": "code",
   "execution_count": 7,
   "metadata": {
    "id": "Y_fWQm0meIfy"
   },
   "outputs": [
    {
     "data": {
      "text/plain": [
       "array([1189.69857949, 1622.10274664, 1639.74736484, 1512.34452335,\n",
       "       1095.33731171, 1529.42405609, 1109.3847182 , 1798.89496492,\n",
       "       1649.48742228, 1240.15077623, 1413.63562168, 1636.70440521,\n",
       "       1612.28033801, 1291.24364052, 1040.65950866, 1180.96095038,\n",
       "       1463.73644747, 1600.40029005, 1613.28402928,  934.51697249,\n",
       "       1582.742959  , 1368.27770641, 1489.57405794, 1143.74956714,\n",
       "       1118.81511363, 1168.67991807, 1448.07305927, 1287.70052364,\n",
       "       1139.91929561, 1459.47313178])"
      ]
     },
     "execution_count": 7,
     "metadata": {},
     "output_type": "execute_result"
    }
   ],
   "source": [
    "#making predictions:\n",
    "y_pred = regressor.predict(X)\n",
    "y_pred"
   ]
  },
  {
   "cell_type": "code",
   "execution_count": 8,
   "metadata": {
    "colab": {
     "base_uri": "https://localhost:8080/",
     "height": 362
    },
    "id": "Y6Bsu0fweOFr",
    "outputId": "705cde93-ada0-47fa-a8b9-9e913e6c9d37"
   },
   "outputs": [
    {
     "data": {
      "text/html": [
       "<div>\n",
       "<style scoped>\n",
       "    .dataframe tbody tr th:only-of-type {\n",
       "        vertical-align: middle;\n",
       "    }\n",
       "\n",
       "    .dataframe tbody tr th {\n",
       "        vertical-align: top;\n",
       "    }\n",
       "\n",
       "    .dataframe thead th {\n",
       "        text-align: right;\n",
       "    }\n",
       "</style>\n",
       "<table border=\"1\" class=\"dataframe\">\n",
       "  <thead>\n",
       "    <tr style=\"text-align: right;\">\n",
       "      <th></th>\n",
       "      <th>Actual</th>\n",
       "      <th>Predicted</th>\n",
       "    </tr>\n",
       "  </thead>\n",
       "  <tbody>\n",
       "    <tr>\n",
       "      <th>0</th>\n",
       "      <td>1173</td>\n",
       "      <td>1189.698579</td>\n",
       "    </tr>\n",
       "    <tr>\n",
       "      <th>1</th>\n",
       "      <td>1605</td>\n",
       "      <td>1622.102747</td>\n",
       "    </tr>\n",
       "    <tr>\n",
       "      <th>2</th>\n",
       "      <td>1652</td>\n",
       "      <td>1639.747365</td>\n",
       "    </tr>\n",
       "    <tr>\n",
       "      <th>3</th>\n",
       "      <td>1520</td>\n",
       "      <td>1512.344523</td>\n",
       "    </tr>\n",
       "    <tr>\n",
       "      <th>4</th>\n",
       "      <td>1095</td>\n",
       "      <td>1095.337312</td>\n",
       "    </tr>\n",
       "    <tr>\n",
       "      <th>5</th>\n",
       "      <td>1539</td>\n",
       "      <td>1529.424056</td>\n",
       "    </tr>\n",
       "    <tr>\n",
       "      <th>6</th>\n",
       "      <td>1114</td>\n",
       "      <td>1109.384718</td>\n",
       "    </tr>\n",
       "    <tr>\n",
       "      <th>7</th>\n",
       "      <td>1809</td>\n",
       "      <td>1798.894965</td>\n",
       "    </tr>\n",
       "    <tr>\n",
       "      <th>8</th>\n",
       "      <td>1635</td>\n",
       "      <td>1649.487422</td>\n",
       "    </tr>\n",
       "    <tr>\n",
       "      <th>9</th>\n",
       "      <td>1251</td>\n",
       "      <td>1240.150776</td>\n",
       "    </tr>\n",
       "    <tr>\n",
       "      <th>10</th>\n",
       "      <td>1403</td>\n",
       "      <td>1413.635622</td>\n",
       "    </tr>\n",
       "    <tr>\n",
       "      <th>11</th>\n",
       "      <td>1637</td>\n",
       "      <td>1636.704405</td>\n",
       "    </tr>\n",
       "    <tr>\n",
       "      <th>12</th>\n",
       "      <td>1619</td>\n",
       "      <td>1612.280338</td>\n",
       "    </tr>\n",
       "    <tr>\n",
       "      <th>13</th>\n",
       "      <td>1299</td>\n",
       "      <td>1291.243641</td>\n",
       "    </tr>\n",
       "    <tr>\n",
       "      <th>14</th>\n",
       "      <td>1059</td>\n",
       "      <td>1040.659509</td>\n",
       "    </tr>\n",
       "    <tr>\n",
       "      <th>15</th>\n",
       "      <td>1159</td>\n",
       "      <td>1180.960950</td>\n",
       "    </tr>\n",
       "    <tr>\n",
       "      <th>16</th>\n",
       "      <td>1463</td>\n",
       "      <td>1463.736447</td>\n",
       "    </tr>\n",
       "    <tr>\n",
       "      <th>17</th>\n",
       "      <td>1591</td>\n",
       "      <td>1600.400290</td>\n",
       "    </tr>\n",
       "    <tr>\n",
       "      <th>18</th>\n",
       "      <td>1604</td>\n",
       "      <td>1613.284029</td>\n",
       "    </tr>\n",
       "    <tr>\n",
       "      <th>19</th>\n",
       "      <td>936</td>\n",
       "      <td>934.516972</td>\n",
       "    </tr>\n",
       "    <tr>\n",
       "      <th>20</th>\n",
       "      <td>1595</td>\n",
       "      <td>1582.742959</td>\n",
       "    </tr>\n",
       "    <tr>\n",
       "      <th>21</th>\n",
       "      <td>1387</td>\n",
       "      <td>1368.277706</td>\n",
       "    </tr>\n",
       "    <tr>\n",
       "      <th>22</th>\n",
       "      <td>1485</td>\n",
       "      <td>1489.574058</td>\n",
       "    </tr>\n",
       "    <tr>\n",
       "      <th>23</th>\n",
       "      <td>1160</td>\n",
       "      <td>1143.749567</td>\n",
       "    </tr>\n",
       "    <tr>\n",
       "      <th>24</th>\n",
       "      <td>1101</td>\n",
       "      <td>1118.815114</td>\n",
       "    </tr>\n",
       "    <tr>\n",
       "      <th>25</th>\n",
       "      <td>1183</td>\n",
       "      <td>1168.679918</td>\n",
       "    </tr>\n",
       "    <tr>\n",
       "      <th>26</th>\n",
       "      <td>1454</td>\n",
       "      <td>1448.073059</td>\n",
       "    </tr>\n",
       "    <tr>\n",
       "      <th>27</th>\n",
       "      <td>1273</td>\n",
       "      <td>1287.700524</td>\n",
       "    </tr>\n",
       "    <tr>\n",
       "      <th>28</th>\n",
       "      <td>1127</td>\n",
       "      <td>1139.919296</td>\n",
       "    </tr>\n",
       "    <tr>\n",
       "      <th>29</th>\n",
       "      <td>1453</td>\n",
       "      <td>1459.473132</td>\n",
       "    </tr>\n",
       "  </tbody>\n",
       "</table>\n",
       "</div>"
      ],
      "text/plain": [
       "    Actual    Predicted\n",
       "0     1173  1189.698579\n",
       "1     1605  1622.102747\n",
       "2     1652  1639.747365\n",
       "3     1520  1512.344523\n",
       "4     1095  1095.337312\n",
       "5     1539  1529.424056\n",
       "6     1114  1109.384718\n",
       "7     1809  1798.894965\n",
       "8     1635  1649.487422\n",
       "9     1251  1240.150776\n",
       "10    1403  1413.635622\n",
       "11    1637  1636.704405\n",
       "12    1619  1612.280338\n",
       "13    1299  1291.243641\n",
       "14    1059  1040.659509\n",
       "15    1159  1180.960950\n",
       "16    1463  1463.736447\n",
       "17    1591  1600.400290\n",
       "18    1604  1613.284029\n",
       "19     936   934.516972\n",
       "20    1595  1582.742959\n",
       "21    1387  1368.277706\n",
       "22    1485  1489.574058\n",
       "23    1160  1143.749567\n",
       "24    1101  1118.815114\n",
       "25    1183  1168.679918\n",
       "26    1454  1448.073059\n",
       "27    1273  1287.700524\n",
       "28    1127  1139.919296\n",
       "29    1453  1459.473132"
      ]
     },
     "execution_count": 8,
     "metadata": {},
     "output_type": "execute_result"
    }
   ],
   "source": [
    "df = pd.DataFrame({'Actual': y, 'Predicted': y_pred})\n",
    "df"
   ]
  },
  {
   "cell_type": "code",
   "execution_count": 9,
   "metadata": {
    "colab": {
     "base_uri": "https://localhost:8080/"
    },
    "id": "rskk1tOneiqC",
    "outputId": "5545ea54-a549-4448-9b44-8b806b7ca23d"
   },
   "outputs": [
    {
     "name": "stdout",
     "output_type": "stream",
     "text": [
      "Mean squared error: 143.52\n",
      "R^2 Score: 1.00\n"
     ]
    }
   ],
   "source": [
    "# The coefficients\n",
    "from sklearn.metrics import mean_squared_error, r2_score\n",
    "# The mean squared error\n",
    "print('Mean squared error: %.2f'\n",
    "      % mean_squared_error(y, y_pred))\n",
    "# The coefficient of determination: 1 is perfect prediction\n",
    "print('R^2 Score: %.2f'\n",
    "      % r2_score(y, y_pred))"
   ]
  },
  {
   "cell_type": "code",
   "execution_count": 12,
   "metadata": {},
   "outputs": [
    {
     "name": "stderr",
     "output_type": "stream",
     "text": [
      "D:\\Python\\lib\\site-packages\\statsmodels\\tsa\\tsatools.py:142: FutureWarning: In a future version of pandas all arguments of concat except for the argument 'objs' will be keyword-only\n",
      "  x = pd.concat(x[::order], 1)\n"
     ]
    },
    {
     "name": "stdout",
     "output_type": "stream",
     "text": [
      "                            OLS Regression Results                            \n",
      "==============================================================================\n",
      "Dep. Variable:                 Output   R-squared:                       0.997\n",
      "Model:                            OLS   Adj. R-squared:                  0.997\n",
      "Method:                 Least Squares   F-statistic:                     2199.\n",
      "Date:                Wed, 22 Feb 2023   Prob (F-statistic):           1.92e-31\n",
      "Time:                        17:15:57   Log-Likelihood:                -117.07\n",
      "No. Observations:                  30   AIC:                             244.1\n",
      "Df Residuals:                      25   BIC:                             251.1\n",
      "Df Model:                           4                                         \n",
      "Covariance Type:            nonrobust                                         \n",
      "==============================================================================\n",
      "                 coef    std err          t      P>|t|      [0.025      0.975]\n",
      "------------------------------------------------------------------------------\n",
      "const         47.3848     16.911      2.802      0.010      12.557      82.213\n",
      "a              2.0981      0.228      9.214      0.000       1.629       2.567\n",
      "b              2.1326      0.217      9.820      0.000       1.685       2.580\n",
      "c              5.2007      0.208     25.006      0.000       4.772       5.629\n",
      "d             -1.1890      0.203     -5.854      0.000      -1.607      -0.771\n",
      "==============================================================================\n",
      "Omnibus:                        6.649   Durbin-Watson:                   2.140\n",
      "Prob(Omnibus):                  0.036   Jarque-Bera (JB):                2.107\n",
      "Skew:                          -0.177   Prob(JB):                        0.349\n",
      "Kurtosis:                       1.751   Cond. No.                     4.19e+03\n",
      "==============================================================================\n",
      "\n",
      "Notes:\n",
      "[1] Standard Errors assume that the covariance matrix of the errors is correctly specified.\n",
      "[2] The condition number is large, 4.19e+03. This might indicate that there are\n",
      "strong multicollinearity or other numerical problems.\n"
     ]
    }
   ],
   "source": [
    "import pandas as pd\n",
    "import numpy as np\n",
    "from sklearn import datasets, linear_model\n",
    "from sklearn.linear_model import LinearRegression\n",
    "import statsmodels.api as sm\n",
    "from scipy import stats\n",
    "\n",
    "\n",
    "X2 = sm.add_constant(X)\n",
    "est = sm.OLS(y, X2)\n",
    "est2 = est.fit()\n",
    "print(est2.summary())"
   ]
  },
  {
   "cell_type": "code",
   "execution_count": 13,
   "metadata": {},
   "outputs": [
    {
     "data": {
      "text/html": [
       "<div>\n",
       "<style scoped>\n",
       "    .dataframe tbody tr th:only-of-type {\n",
       "        vertical-align: middle;\n",
       "    }\n",
       "\n",
       "    .dataframe tbody tr th {\n",
       "        vertical-align: top;\n",
       "    }\n",
       "\n",
       "    .dataframe thead th {\n",
       "        text-align: right;\n",
       "    }\n",
       "</style>\n",
       "<table border=\"1\" class=\"dataframe\">\n",
       "  <thead>\n",
       "    <tr style=\"text-align: right;\">\n",
       "      <th></th>\n",
       "      <th>const</th>\n",
       "      <th>a</th>\n",
       "      <th>b</th>\n",
       "      <th>c</th>\n",
       "      <th>d</th>\n",
       "    </tr>\n",
       "  </thead>\n",
       "  <tbody>\n",
       "    <tr>\n",
       "      <th>0</th>\n",
       "      <td>1.0</td>\n",
       "      <td>66</td>\n",
       "      <td>132</td>\n",
       "      <td>250</td>\n",
       "      <td>486</td>\n",
       "    </tr>\n",
       "    <tr>\n",
       "      <th>1</th>\n",
       "      <td>1.0</td>\n",
       "      <td>73</td>\n",
       "      <td>73</td>\n",
       "      <td>368</td>\n",
       "      <td>545</td>\n",
       "    </tr>\n",
       "    <tr>\n",
       "      <th>2</th>\n",
       "      <td>1.0</td>\n",
       "      <td>64</td>\n",
       "      <td>158</td>\n",
       "      <td>350</td>\n",
       "      <td>588</td>\n",
       "    </tr>\n",
       "    <tr>\n",
       "      <th>3</th>\n",
       "      <td>1.0</td>\n",
       "      <td>39</td>\n",
       "      <td>51</td>\n",
       "      <td>347</td>\n",
       "      <td>446</td>\n",
       "    </tr>\n",
       "    <tr>\n",
       "      <th>4</th>\n",
       "      <td>1.0</td>\n",
       "      <td>54</td>\n",
       "      <td>90</td>\n",
       "      <td>229</td>\n",
       "      <td>377</td>\n",
       "    </tr>\n",
       "    <tr>\n",
       "      <th>5</th>\n",
       "      <td>1.0</td>\n",
       "      <td>36</td>\n",
       "      <td>169</td>\n",
       "      <td>331</td>\n",
       "      <td>568</td>\n",
       "    </tr>\n",
       "    <tr>\n",
       "      <th>6</th>\n",
       "      <td>1.0</td>\n",
       "      <td>92</td>\n",
       "      <td>153</td>\n",
       "      <td>215</td>\n",
       "      <td>484</td>\n",
       "    </tr>\n",
       "    <tr>\n",
       "      <th>7</th>\n",
       "      <td>1.0</td>\n",
       "      <td>95</td>\n",
       "      <td>105</td>\n",
       "      <td>396</td>\n",
       "      <td>615</td>\n",
       "    </tr>\n",
       "    <tr>\n",
       "      <th>8</th>\n",
       "      <td>1.0</td>\n",
       "      <td>91</td>\n",
       "      <td>142</td>\n",
       "      <td>356</td>\n",
       "      <td>625</td>\n",
       "    </tr>\n",
       "    <tr>\n",
       "      <th>9</th>\n",
       "      <td>1.0</td>\n",
       "      <td>76</td>\n",
       "      <td>130</td>\n",
       "      <td>251</td>\n",
       "      <td>462</td>\n",
       "    </tr>\n",
       "    <tr>\n",
       "      <th>10</th>\n",
       "      <td>1.0</td>\n",
       "      <td>99</td>\n",
       "      <td>104</td>\n",
       "      <td>299</td>\n",
       "      <td>520</td>\n",
       "    </tr>\n",
       "    <tr>\n",
       "      <th>11</th>\n",
       "      <td>1.0</td>\n",
       "      <td>35</td>\n",
       "      <td>98</td>\n",
       "      <td>372</td>\n",
       "      <td>528</td>\n",
       "    </tr>\n",
       "    <tr>\n",
       "      <th>12</th>\n",
       "      <td>1.0</td>\n",
       "      <td>58</td>\n",
       "      <td>89</td>\n",
       "      <td>356</td>\n",
       "      <td>503</td>\n",
       "    </tr>\n",
       "    <tr>\n",
       "      <th>13</th>\n",
       "      <td>1.0</td>\n",
       "      <td>71</td>\n",
       "      <td>83</td>\n",
       "      <td>286</td>\n",
       "      <td>479</td>\n",
       "    </tr>\n",
       "    <tr>\n",
       "      <th>14</th>\n",
       "      <td>1.0</td>\n",
       "      <td>76</td>\n",
       "      <td>134</td>\n",
       "      <td>203</td>\n",
       "      <td>427</td>\n",
       "    </tr>\n",
       "    <tr>\n",
       "      <th>15</th>\n",
       "      <td>1.0</td>\n",
       "      <td>19</td>\n",
       "      <td>57</td>\n",
       "      <td>269</td>\n",
       "      <td>359</td>\n",
       "    </tr>\n",
       "    <tr>\n",
       "      <th>16</th>\n",
       "      <td>1.0</td>\n",
       "      <td>47</td>\n",
       "      <td>142</td>\n",
       "      <td>309</td>\n",
       "      <td>498</td>\n",
       "    </tr>\n",
       "    <tr>\n",
       "      <th>17</th>\n",
       "      <td>1.0</td>\n",
       "      <td>42</td>\n",
       "      <td>146</td>\n",
       "      <td>348</td>\n",
       "      <td>552</td>\n",
       "    </tr>\n",
       "    <tr>\n",
       "      <th>18</th>\n",
       "      <td>1.0</td>\n",
       "      <td>50</td>\n",
       "      <td>191</td>\n",
       "      <td>340</td>\n",
       "      <td>601</td>\n",
       "    </tr>\n",
       "    <tr>\n",
       "      <th>19</th>\n",
       "      <td>1.0</td>\n",
       "      <td>14</td>\n",
       "      <td>117</td>\n",
       "      <td>202</td>\n",
       "      <td>372</td>\n",
       "    </tr>\n",
       "    <tr>\n",
       "      <th>20</th>\n",
       "      <td>1.0</td>\n",
       "      <td>59</td>\n",
       "      <td>78</td>\n",
       "      <td>359</td>\n",
       "      <td>523</td>\n",
       "    </tr>\n",
       "    <tr>\n",
       "      <th>21</th>\n",
       "      <td>1.0</td>\n",
       "      <td>16</td>\n",
       "      <td>100</td>\n",
       "      <td>311</td>\n",
       "      <td>457</td>\n",
       "    </tr>\n",
       "    <tr>\n",
       "      <th>22</th>\n",
       "      <td>1.0</td>\n",
       "      <td>48</td>\n",
       "      <td>130</td>\n",
       "      <td>321</td>\n",
       "      <td>509</td>\n",
       "    </tr>\n",
       "    <tr>\n",
       "      <th>23</th>\n",
       "      <td>1.0</td>\n",
       "      <td>47</td>\n",
       "      <td>189</td>\n",
       "      <td>225</td>\n",
       "      <td>484</td>\n",
       "    </tr>\n",
       "    <tr>\n",
       "      <th>24</th>\n",
       "      <td>1.0</td>\n",
       "      <td>48</td>\n",
       "      <td>172</td>\n",
       "      <td>219</td>\n",
       "      <td>450</td>\n",
       "    </tr>\n",
       "    <tr>\n",
       "      <th>25</th>\n",
       "      <td>1.0</td>\n",
       "      <td>40</td>\n",
       "      <td>71</td>\n",
       "      <td>265</td>\n",
       "      <td>414</td>\n",
       "    </tr>\n",
       "    <tr>\n",
       "      <th>26</th>\n",
       "      <td>1.0</td>\n",
       "      <td>87</td>\n",
       "      <td>76</td>\n",
       "      <td>316</td>\n",
       "      <td>494</td>\n",
       "    </tr>\n",
       "    <tr>\n",
       "      <th>27</th>\n",
       "      <td>1.0</td>\n",
       "      <td>58</td>\n",
       "      <td>162</td>\n",
       "      <td>268</td>\n",
       "      <td>522</td>\n",
       "    </tr>\n",
       "    <tr>\n",
       "      <th>28</th>\n",
       "      <td>1.0</td>\n",
       "      <td>41</td>\n",
       "      <td>66</td>\n",
       "      <td>249</td>\n",
       "      <td>361</td>\n",
       "    </tr>\n",
       "    <tr>\n",
       "      <th>29</th>\n",
       "      <td>1.0</td>\n",
       "      <td>57</td>\n",
       "      <td>54</td>\n",
       "      <td>332</td>\n",
       "      <td>462</td>\n",
       "    </tr>\n",
       "  </tbody>\n",
       "</table>\n",
       "</div>"
      ],
      "text/plain": [
       "    const   a    b    c    d\n",
       "0     1.0  66  132  250  486\n",
       "1     1.0  73   73  368  545\n",
       "2     1.0  64  158  350  588\n",
       "3     1.0  39   51  347  446\n",
       "4     1.0  54   90  229  377\n",
       "5     1.0  36  169  331  568\n",
       "6     1.0  92  153  215  484\n",
       "7     1.0  95  105  396  615\n",
       "8     1.0  91  142  356  625\n",
       "9     1.0  76  130  251  462\n",
       "10    1.0  99  104  299  520\n",
       "11    1.0  35   98  372  528\n",
       "12    1.0  58   89  356  503\n",
       "13    1.0  71   83  286  479\n",
       "14    1.0  76  134  203  427\n",
       "15    1.0  19   57  269  359\n",
       "16    1.0  47  142  309  498\n",
       "17    1.0  42  146  348  552\n",
       "18    1.0  50  191  340  601\n",
       "19    1.0  14  117  202  372\n",
       "20    1.0  59   78  359  523\n",
       "21    1.0  16  100  311  457\n",
       "22    1.0  48  130  321  509\n",
       "23    1.0  47  189  225  484\n",
       "24    1.0  48  172  219  450\n",
       "25    1.0  40   71  265  414\n",
       "26    1.0  87   76  316  494\n",
       "27    1.0  58  162  268  522\n",
       "28    1.0  41   66  249  361\n",
       "29    1.0  57   54  332  462"
      ]
     },
     "execution_count": 13,
     "metadata": {},
     "output_type": "execute_result"
    }
   ],
   "source": [
    "X2"
   ]
  },
  {
   "cell_type": "code",
   "execution_count": 11,
   "metadata": {
    "colab": {
     "base_uri": "https://localhost:8080/",
     "height": 252
    },
    "id": "0Z6lmJxOemh2",
    "outputId": "23516323-830d-475b-a304-867dcfa06daf"
   },
   "outputs": [
    {
     "data": {
      "image/png": "[encoded data removed]",
      "text/plain": [
       "<Figure size 216x288 with 1 Axes>"
      ]
     },
     "metadata": {
      "needs_background": "light"
     },
     "output_type": "display_data"
    }
   ],
   "source": [
    "# Plot outputs\n",
    "fig = plt.figure()\n",
    " \n",
    "fig.set_figheight(4)\n",
    "fig.set_figwidth(3)\n",
    "\n",
    "plt.scatter(X['d'], y,  color='black')\n",
    "\n",
    "\n",
    "plt.show()"
   ]
  },
  {
   "cell_type": "code",
   "execution_count": 12,
   "metadata": {},
   "outputs": [],
   "source": [
    "from statsmodels.stats.outliers_influence import variance_inflation_factor"
   ]
  },
  {
   "cell_type": "code",
   "execution_count": 13,
   "metadata": {},
   "outputs": [],
   "source": [
    "vif_data = pd.DataFrame()\n",
    "vif_data[\"feature\"] = X.columns"
   ]
  },
  {
   "cell_type": "code",
   "execution_count": 14,
   "metadata": {},
   "outputs": [
    {
     "data": {
      "text/html": [
       "<div>\n",
       "<style scoped>\n",
       "    .dataframe tbody tr th:only-of-type {\n",
       "        vertical-align: middle;\n",
       "    }\n",
       "\n",
       "    .dataframe tbody tr th {\n",
       "        vertical-align: top;\n",
       "    }\n",
       "\n",
       "    .dataframe thead th {\n",
       "        text-align: right;\n",
       "    }\n",
       "</style>\n",
       "<table border=\"1\" class=\"dataframe\">\n",
       "  <thead>\n",
       "    <tr style=\"text-align: right;\">\n",
       "      <th></th>\n",
       "      <th>feature</th>\n",
       "    </tr>\n",
       "  </thead>\n",
       "  <tbody>\n",
       "    <tr>\n",
       "      <th>0</th>\n",
       "      <td>a</td>\n",
       "    </tr>\n",
       "    <tr>\n",
       "      <th>1</th>\n",
       "      <td>b</td>\n",
       "    </tr>\n",
       "    <tr>\n",
       "      <th>2</th>\n",
       "      <td>c</td>\n",
       "    </tr>\n",
       "    <tr>\n",
       "      <th>3</th>\n",
       "      <td>d</td>\n",
       "    </tr>\n",
       "  </tbody>\n",
       "</table>\n",
       "</div>"
      ],
      "text/plain": [
       "  feature\n",
       "0       a\n",
       "1       b\n",
       "2       c\n",
       "3       d"
      ]
     },
     "execution_count": 14,
     "metadata": {},
     "output_type": "execute_result"
    }
   ],
   "source": [
    "vif_data"
   ]
  },
  {
   "cell_type": "code",
   "execution_count": 15,
   "metadata": {},
   "outputs": [
    {
     "name": "stdout",
     "output_type": "stream",
     "text": [
      "  feature          VIF\n",
      "0       a    33.217979\n",
      "1       b   122.671267\n",
      "2       c   692.321517\n",
      "3       d  1683.704241\n"
     ]
    }
   ],
   "source": [
    "vif_data[\"VIF\"] = [variance_inflation_factor(X.values, i)\n",
    "                          for i in range(len(X.columns))]\n",
    "  \n",
    "print(vif_data)\n"
   ]
  },
  {
   "cell_type": "code",
   "execution_count": null,
   "metadata": {},
   "outputs": [],
   "source": []
  },
  {
   "cell_type": "code",
   "execution_count": 20,
   "metadata": {},
   "outputs": [],
   "source": [
    "Xnew = X.drop('d',axis = 1)"
   ]
  },
  {
   "cell_type": "code",
   "execution_count": 21,
   "metadata": {},
   "outputs": [
    {
     "name": "stderr",
     "output_type": "stream",
     "text": [
      "D:\\Python\\lib\\site-packages\\statsmodels\\tsa\\tsatools.py:142: FutureWarning: In a future version of pandas all arguments of concat except for the argument 'objs' will be keyword-only\n",
      "  x = pd.concat(x[::order], 1)\n"
     ]
    },
    {
     "name": "stdout",
     "output_type": "stream",
     "text": [
      "                            OLS Regression Results                            \n",
      "==============================================================================\n",
      "Dep. Variable:                 Output   R-squared:                       0.993\n",
      "Model:                            OLS   Adj. R-squared:                  0.993\n",
      "Method:                 Least Squares   F-statistic:                     1282.\n",
      "Date:                Wed, 22 Feb 2023   Prob (F-statistic):           2.36e-28\n",
      "Time:                        17:20:57   Log-Likelihood:                -130.01\n",
      "No. Observations:                  30   AIC:                             268.0\n",
      "Df Residuals:                      26   BIC:                             273.6\n",
      "Df Model:                           3                                         \n",
      "Covariance Type:            nonrobust                                         \n",
      "==============================================================================\n",
      "                 coef    std err          t      P>|t|      [0.025      0.975]\n",
      "------------------------------------------------------------------------------\n",
      "const         26.2491     24.942      1.052      0.302     -25.021      77.519\n",
      "a              0.9246      0.163      5.672      0.000       0.590       1.260\n",
      "b              0.9118      0.092      9.963      0.000       0.724       1.100\n",
      "c              4.0110      0.067     60.171      0.000       3.874       4.148\n",
      "==============================================================================\n",
      "Omnibus:                        1.059   Durbin-Watson:                   2.328\n",
      "Prob(Omnibus):                  0.589   Jarque-Bera (JB):                0.993\n",
      "Skew:                          -0.271   Prob(JB):                        0.609\n",
      "Kurtosis:                       2.293   Cond. No.                     2.27e+03\n",
      "==============================================================================\n",
      "\n",
      "Notes:\n",
      "[1] Standard Errors assume that the covariance matrix of the errors is correctly specified.\n",
      "[2] The condition number is large, 2.27e+03. This might indicate that there are\n",
      "strong multicollinearity or other numerical problems.\n"
     ]
    }
   ],
   "source": [
    "X2 = sm.add_constant(Xnew)\n",
    "est = sm.OLS(y, X2)\n",
    "est2 = est.fit()\n",
    "print(est2.summary())"
   ]
  },
  {
   "cell_type": "code",
   "execution_count": 23,
   "metadata": {},
   "outputs": [
    {
     "name": "stdout",
     "output_type": "stream",
     "text": [
      "  feature       VIF\n",
      "0       a  7.221197\n",
      "1       b  6.576227\n",
      "2       c  9.387922\n"
     ]
    }
   ],
   "source": [
    "vif_data = pd.DataFrame()\n",
    "vif_data[\"feature\"] = Xnew.columns\n",
    "vif_data[\"VIF\"] = [variance_inflation_factor(Xnew.values, i)\n",
    "                          for i in range(len(Xnew.columns))]\n",
    "  \n",
    "print(vif_data)"
   ]
  },
  {
   "cell_type": "code",
   "execution_count": 25,
   "metadata": {},
   "outputs": [
    {
     "name": "stdout",
     "output_type": "stream",
     "text": [
      "                            OLS Regression Results                            \n",
      "==============================================================================\n",
      "Dep. Variable:                 Output   R-squared:                       0.058\n",
      "Model:                            OLS   Adj. R-squared:                 -0.012\n",
      "Method:                 Least Squares   F-statistic:                    0.8293\n",
      "Date:                Wed, 22 Feb 2023   Prob (F-statistic):              0.447\n",
      "Time:                        17:23:41   Log-Likelihood:                -204.16\n",
      "No. Observations:                  30   AIC:                             414.3\n",
      "Df Residuals:                      27   BIC:                             418.5\n",
      "Df Model:                           2                                         \n",
      "Covariance Type:            nonrobust                                         \n",
      "==============================================================================\n",
      "                 coef    std err          t      P>|t|      [0.025      0.975]\n",
      "------------------------------------------------------------------------------\n",
      "const       1281.4619    158.904      8.064      0.000     955.417    1607.506\n",
      "a              2.3819      1.873      1.271      0.214      -1.462       6.226\n",
      "b             -0.3199      1.037     -0.309      0.760      -2.447       1.807\n",
      "==============================================================================\n",
      "Omnibus:                       12.122   Durbin-Watson:                   2.051\n",
      "Prob(Omnibus):                  0.002   Jarque-Bera (JB):                2.590\n",
      "Skew:                          -0.115   Prob(JB):                        0.274\n",
      "Kurtosis:                       1.579   Cond. No.                         507.\n",
      "==============================================================================\n",
      "\n",
      "Notes:\n",
      "[1] Standard Errors assume that the covariance matrix of the errors is correctly specified.\n"
     ]
    },
    {
     "name": "stderr",
     "output_type": "stream",
     "text": [
      "D:\\Python\\lib\\site-packages\\statsmodels\\tsa\\tsatools.py:142: FutureWarning: In a future version of pandas all arguments of concat except for the argument 'objs' will be keyword-only\n",
      "  x = pd.concat(x[::order], 1)\n"
     ]
    }
   ],
   "source": [
    "X2 = sm.add_constant(Xnew2)\n",
    "est = sm.OLS(y, X2)\n",
    "est2 = est.fit()\n",
    "print(est2.summary())"
   ]
  },
  {
   "cell_type": "code",
   "execution_count": 26,
   "metadata": {},
   "outputs": [
    {
     "name": "stdout",
     "output_type": "stream",
     "text": [
      "  feature       VIF\n",
      "0       a  4.664394\n",
      "1       b  4.664394\n"
     ]
    }
   ],
   "source": [
    "vif_data = pd.DataFrame()\n",
    "vif_data[\"feature\"] = Xnew2.columns\n",
    "vif_data[\"VIF\"] = [variance_inflation_factor(Xnew2.values, i)\n",
    "                          for i in range(len(Xnew2.columns))]\n",
    "  \n",
    "print(vif_data)"
   ]
  },
  {
   "cell_type": "code",
   "execution_count": null,
   "metadata": {},
   "outputs": [],
   "source": []
  },
  {
   "cell_type": "code",
   "execution_count": 24,
   "metadata": {},
   "outputs": [],
   "source": [
    "Xnew2 = Xnew.drop('c',axis =1)"
   ]
  },
  {
   "cell_type": "code",
   "execution_count": null,
   "metadata": {},
   "outputs": [],
   "source": []
  },
  {
   "cell_type": "code",
   "execution_count": 15,
   "metadata": {},
   "outputs": [],
   "source": [
    "?sm.OLS"
   ]
  }
 ],
 "metadata": {
  "colab": {
   "name": "Multiple-linear regression.ipynb",
   "provenance": []
  },
  "kernelspec": {
   "display_name": "Python 3 (ipykernel)",
   "language": "python",
   "name": "python3"
  },
  "language_info": {
   "codemirror_mode": {
    "name": "ipython",
    "version": 3
   },
   "file_extension": ".py",
   "mimetype": "text/x-python",
   "name": "python",
   "nbconvert_exporter": "python",
   "pygments_lexer": "ipython3",
   "version": "3.7.9"
  }
 },
 "nbformat": 4,
 "nbformat_minor": 4
}
