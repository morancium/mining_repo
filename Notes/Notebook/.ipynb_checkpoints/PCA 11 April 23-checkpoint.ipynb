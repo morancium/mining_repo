{
 "cells": [
  {
   "cell_type": "code",
   "execution_count": 147,
   "id": "80e2f205",
   "metadata": {},
   "outputs": [],
   "source": [
    "import numpy as np\n",
    "#Importing standard libraries\n",
    "%matplotlib inline\n",
    "import numpy as np\n",
    "import matplotlib.pyplot as plt\n",
    "import seaborn as sns; sns.set()"
   ]
  },
  {
   "cell_type": "code",
   "execution_count": 148,
   "id": "2fbcbd04",
   "metadata": {},
   "outputs": [
    {
     "data": {
      "text/plain": [
       "'C:\\\\Users\\\\sumit\\\\Downloads\\\\Clustering'"
      ]
     },
     "execution_count": 148,
     "metadata": {},
     "output_type": "execute_result"
    }
   ],
   "source": [
    "pwd"
   ]
  },
  {
   "cell_type": "code",
   "execution_count": 149,
   "id": "8f5e3f75",
   "metadata": {},
   "outputs": [],
   "source": [
    "data = pd.read_csv('pcaeg.csv')"
   ]
  },
  {
   "cell_type": "code",
   "execution_count": 150,
   "id": "f89fe4c8",
   "metadata": {},
   "outputs": [
    {
     "data": {
      "text/html": [
       "<div>\n",
       "<style scoped>\n",
       "    .dataframe tbody tr th:only-of-type {\n",
       "        vertical-align: middle;\n",
       "    }\n",
       "\n",
       "    .dataframe tbody tr th {\n",
       "        vertical-align: top;\n",
       "    }\n",
       "\n",
       "    .dataframe thead th {\n",
       "        text-align: right;\n",
       "    }\n",
       "</style>\n",
       "<table border=\"1\" class=\"dataframe\">\n",
       "  <thead>\n",
       "    <tr style=\"text-align: right;\">\n",
       "      <th></th>\n",
       "      <th>X1</th>\n",
       "      <th>X2</th>\n",
       "    </tr>\n",
       "  </thead>\n",
       "  <tbody>\n",
       "    <tr>\n",
       "      <th>0</th>\n",
       "      <td>100</td>\n",
       "      <td>4237</td>\n",
       "    </tr>\n",
       "    <tr>\n",
       "      <th>1</th>\n",
       "      <td>150</td>\n",
       "      <td>2852</td>\n",
       "    </tr>\n",
       "    <tr>\n",
       "      <th>2</th>\n",
       "      <td>200</td>\n",
       "      <td>1889</td>\n",
       "    </tr>\n",
       "    <tr>\n",
       "      <th>3</th>\n",
       "      <td>250</td>\n",
       "      <td>4463</td>\n",
       "    </tr>\n",
       "    <tr>\n",
       "      <th>4</th>\n",
       "      <td>300</td>\n",
       "      <td>4029</td>\n",
       "    </tr>\n",
       "    <tr>\n",
       "      <th>5</th>\n",
       "      <td>350</td>\n",
       "      <td>5152</td>\n",
       "    </tr>\n",
       "    <tr>\n",
       "      <th>6</th>\n",
       "      <td>400</td>\n",
       "      <td>2811</td>\n",
       "    </tr>\n",
       "    <tr>\n",
       "      <th>7</th>\n",
       "      <td>450</td>\n",
       "      <td>3391</td>\n",
       "    </tr>\n",
       "    <tr>\n",
       "      <th>8</th>\n",
       "      <td>500</td>\n",
       "      <td>6105</td>\n",
       "    </tr>\n",
       "    <tr>\n",
       "      <th>9</th>\n",
       "      <td>550</td>\n",
       "      <td>3289</td>\n",
       "    </tr>\n",
       "    <tr>\n",
       "      <th>10</th>\n",
       "      <td>600</td>\n",
       "      <td>4610</td>\n",
       "    </tr>\n",
       "    <tr>\n",
       "      <th>11</th>\n",
       "      <td>650</td>\n",
       "      <td>6251</td>\n",
       "    </tr>\n",
       "    <tr>\n",
       "      <th>12</th>\n",
       "      <td>700</td>\n",
       "      <td>5591</td>\n",
       "    </tr>\n",
       "    <tr>\n",
       "      <th>13</th>\n",
       "      <td>750</td>\n",
       "      <td>6327</td>\n",
       "    </tr>\n",
       "    <tr>\n",
       "      <th>14</th>\n",
       "      <td>800</td>\n",
       "      <td>6376</td>\n",
       "    </tr>\n",
       "    <tr>\n",
       "      <th>15</th>\n",
       "      <td>850</td>\n",
       "      <td>5554</td>\n",
       "    </tr>\n",
       "    <tr>\n",
       "      <th>16</th>\n",
       "      <td>900</td>\n",
       "      <td>6808</td>\n",
       "    </tr>\n",
       "    <tr>\n",
       "      <th>17</th>\n",
       "      <td>950</td>\n",
       "      <td>5455</td>\n",
       "    </tr>\n",
       "    <tr>\n",
       "      <th>18</th>\n",
       "      <td>1000</td>\n",
       "      <td>8705</td>\n",
       "    </tr>\n",
       "    <tr>\n",
       "      <th>19</th>\n",
       "      <td>1050</td>\n",
       "      <td>8447</td>\n",
       "    </tr>\n",
       "    <tr>\n",
       "      <th>20</th>\n",
       "      <td>1100</td>\n",
       "      <td>7960</td>\n",
       "    </tr>\n",
       "    <tr>\n",
       "      <th>21</th>\n",
       "      <td>1150</td>\n",
       "      <td>7331</td>\n",
       "    </tr>\n",
       "    <tr>\n",
       "      <th>22</th>\n",
       "      <td>1200</td>\n",
       "      <td>8482</td>\n",
       "    </tr>\n",
       "    <tr>\n",
       "      <th>23</th>\n",
       "      <td>1250</td>\n",
       "      <td>9438</td>\n",
       "    </tr>\n",
       "    <tr>\n",
       "      <th>24</th>\n",
       "      <td>1300</td>\n",
       "      <td>7909</td>\n",
       "    </tr>\n",
       "    <tr>\n",
       "      <th>25</th>\n",
       "      <td>1350</td>\n",
       "      <td>7789</td>\n",
       "    </tr>\n",
       "    <tr>\n",
       "      <th>26</th>\n",
       "      <td>1400</td>\n",
       "      <td>9671</td>\n",
       "    </tr>\n",
       "    <tr>\n",
       "      <th>27</th>\n",
       "      <td>1450</td>\n",
       "      <td>9590</td>\n",
       "    </tr>\n",
       "    <tr>\n",
       "      <th>28</th>\n",
       "      <td>1500</td>\n",
       "      <td>11482</td>\n",
       "    </tr>\n",
       "    <tr>\n",
       "      <th>29</th>\n",
       "      <td>1550</td>\n",
       "      <td>10591</td>\n",
       "    </tr>\n",
       "    <tr>\n",
       "      <th>30</th>\n",
       "      <td>1600</td>\n",
       "      <td>9565</td>\n",
       "    </tr>\n",
       "    <tr>\n",
       "      <th>31</th>\n",
       "      <td>1650</td>\n",
       "      <td>11068</td>\n",
       "    </tr>\n",
       "    <tr>\n",
       "      <th>32</th>\n",
       "      <td>1700</td>\n",
       "      <td>11860</td>\n",
       "    </tr>\n",
       "    <tr>\n",
       "      <th>33</th>\n",
       "      <td>1750</td>\n",
       "      <td>10670</td>\n",
       "    </tr>\n",
       "    <tr>\n",
       "      <th>34</th>\n",
       "      <td>1800</td>\n",
       "      <td>11099</td>\n",
       "    </tr>\n",
       "    <tr>\n",
       "      <th>35</th>\n",
       "      <td>1850</td>\n",
       "      <td>12690</td>\n",
       "    </tr>\n",
       "    <tr>\n",
       "      <th>36</th>\n",
       "      <td>1900</td>\n",
       "      <td>12213</td>\n",
       "    </tr>\n",
       "    <tr>\n",
       "      <th>37</th>\n",
       "      <td>1950</td>\n",
       "      <td>11151</td>\n",
       "    </tr>\n",
       "    <tr>\n",
       "      <th>38</th>\n",
       "      <td>2000</td>\n",
       "      <td>11963</td>\n",
       "    </tr>\n",
       "    <tr>\n",
       "      <th>39</th>\n",
       "      <td>2050</td>\n",
       "      <td>11882</td>\n",
       "    </tr>\n",
       "  </tbody>\n",
       "</table>\n",
       "</div>"
      ],
      "text/plain": [
       "      X1     X2\n",
       "0    100   4237\n",
       "1    150   2852\n",
       "2    200   1889\n",
       "3    250   4463\n",
       "4    300   4029\n",
       "5    350   5152\n",
       "6    400   2811\n",
       "7    450   3391\n",
       "8    500   6105\n",
       "9    550   3289\n",
       "10   600   4610\n",
       "11   650   6251\n",
       "12   700   5591\n",
       "13   750   6327\n",
       "14   800   6376\n",
       "15   850   5554\n",
       "16   900   6808\n",
       "17   950   5455\n",
       "18  1000   8705\n",
       "19  1050   8447\n",
       "20  1100   7960\n",
       "21  1150   7331\n",
       "22  1200   8482\n",
       "23  1250   9438\n",
       "24  1300   7909\n",
       "25  1350   7789\n",
       "26  1400   9671\n",
       "27  1450   9590\n",
       "28  1500  11482\n",
       "29  1550  10591\n",
       "30  1600   9565\n",
       "31  1650  11068\n",
       "32  1700  11860\n",
       "33  1750  10670\n",
       "34  1800  11099\n",
       "35  1850  12690\n",
       "36  1900  12213\n",
       "37  1950  11151\n",
       "38  2000  11963\n",
       "39  2050  11882"
      ]
     },
     "execution_count": 150,
     "metadata": {},
     "output_type": "execute_result"
    }
   ],
   "source": [
    "data"
   ]
  },
  {
   "cell_type": "code",
   "execution_count": 151,
   "id": "bd28358e",
   "metadata": {},
   "outputs": [
    {
     "data": {
      "image/png": "[encoded data removed]",
      "text/plain": [
       "<Figure size 432x288 with 1 Axes>"
      ]
     },
     "metadata": {},
     "output_type": "display_data"
    }
   ],
   "source": [
    "data.plot(kind='scatter',x='X1',y='X2',color='red')\n",
    "plt.show()"
   ]
  },
  {
   "cell_type": "code",
   "execution_count": 152,
   "id": "5c50cde4",
   "metadata": {},
   "outputs": [],
   "source": [
    "from sklearn.decomposition import PCA\n",
    "pca = PCA(n_components=1) \n",
    "results = pca.fit(data) "
   ]
  },
  {
   "cell_type": "code",
   "execution_count": 153,
   "id": "00d7666c",
   "metadata": {},
   "outputs": [
    {
     "data": {
      "text/plain": [
       "array([[-0.17743516, -0.98413249]])"
      ]
     },
     "execution_count": 153,
     "metadata": {},
     "output_type": "execute_result"
    }
   ],
   "source": [
    "results.components_"
   ]
  },
  {
   "cell_type": "code",
   "execution_count": 154,
   "id": "37dfaa77",
   "metadata": {},
   "outputs": [],
   "source": [
    "datanew = results.transform(data)"
   ]
  },
  {
   "cell_type": "code",
   "execution_count": 155,
   "id": "937f5a0c",
   "metadata": {},
   "outputs": [
    {
     "data": {
      "text/plain": [
       "array([[ 3550.19755092],\n",
       "       [ 4904.34929593],\n",
       "       [ 5843.19712884],\n",
       "       [ 3301.16833349],\n",
       "       [ 3719.41007753],\n",
       "       [ 2605.35752974],\n",
       "       [ 4900.33993819],\n",
       "       [ 4320.67133418],\n",
       "       [ 1640.8639898 ],\n",
       "       [ 4403.3093325 ],\n",
       "       [ 3094.39855107],\n",
       "       [ 1470.56537183],\n",
       "       [ 2111.22105931],\n",
       "       [ 1378.02778637],\n",
       "       [ 1320.93353621],\n",
       "       [ 2121.01868758],\n",
       "       [  878.04478319],\n",
       "       [ 2200.70428842],\n",
       "       [-1006.59807228],\n",
       "       [ -761.56364704],\n",
       "       [ -291.16288087],\n",
       "       [  318.98469932],\n",
       "       [ -822.62355828],\n",
       "       [-1772.32597971],\n",
       "       [ -276.45915569],\n",
       "       [ -167.2350145 ],\n",
       "       [-2028.24412459],\n",
       "       [-1957.40115063],\n",
       "       [-3828.25158565],\n",
       "       [-2960.26129225],\n",
       "       [-1959.41311228],\n",
       "       [-3447.43600746],\n",
       "       [-4235.74070002],\n",
       "       [-3073.49479117],\n",
       "       [-3504.55938872],\n",
       "       [-5079.1859433 ],\n",
       "       [-4618.62650207],\n",
       "       [-3582.34955234],\n",
       "       [-4390.33689476],\n",
       "       [-4319.49392081]])"
      ]
     },
     "execution_count": 155,
     "metadata": {},
     "output_type": "execute_result"
    }
   ],
   "source": [
    "datanew"
   ]
  },
  {
   "cell_type": "code",
   "execution_count": 156,
   "id": "203e1b97",
   "metadata": {},
   "outputs": [],
   "source": [
    "databack = results.inverse_transform(datanew)"
   ]
  },
  {
   "cell_type": "code",
   "execution_count": 157,
   "id": "0a6a3c7e",
   "metadata": {},
   "outputs": [
    {
     "data": {
      "text/plain": [
       "array([[  445.07013017,  4174.78523306],\n",
       "       [  204.79599888,  2842.12050015],\n",
       "       [   38.2113836 ,  1918.16984167],\n",
       "       [  489.25666916,  4419.86297767],\n",
       "       [  415.04587847,  4008.25768738],\n",
       "       [  612.71797033,  5104.63299873],\n",
       "       [  205.50739991,  2846.06623937],\n",
       "       [  308.3609913 ,  3416.53694784],\n",
       "       [  783.85303573,  6053.82243081],\n",
       "       [  293.69810486,  3335.21020853],\n",
       "       [  525.94489855,  4623.35183916],\n",
       "       [  814.06999823,  6221.41883429],\n",
       "       [  700.39515393,  5590.92875532],\n",
       "       [  830.48941949,  6312.48807898],\n",
       "       [  840.61994689,  6368.67638573],\n",
       "       [  698.65671019,  5581.28659098],\n",
       "       [  919.20398357,  6804.53759843],\n",
       "       [  684.51768287,  5502.86540196],\n",
       "       [ 1253.60588983,  8659.27587047],\n",
       "       [ 1210.12816742,  8418.12953065],\n",
       "       [ 1126.6625323 ,  7955.19285186],\n",
       "       [ 1018.4008989 ,  7354.72679258],\n",
       "       [ 1220.96234253,  8478.22057332],\n",
       "       [ 1389.47294346,  9412.85358508],\n",
       "       [ 1124.05357447,  7940.72243814],\n",
       "       [ 1104.67337152,  7833.23141176],\n",
       "       [ 1434.88182039,  9664.71094703],\n",
       "       [ 1422.31178599,  9594.99207445],\n",
       "       [ 1754.26643192, 11436.15677737],\n",
       "       [ 1600.25443549, 10581.9393259 ],\n",
       "       [ 1422.66877872,  9596.97211128],\n",
       "       [ 1686.69635894, 11061.38379298],\n",
       "       [ 1826.56932805, 11837.18005542],\n",
       "       [ 1620.34603947, 10693.3760915 ],\n",
       "       [ 1696.83205523, 11117.60076859],\n",
       "       [ 1976.22616959, 12667.24192552],\n",
       "       [ 1894.50673153, 12213.99041438],\n",
       "       [ 1710.63476534, 11194.15659625],\n",
       "       [ 1854.00012857, 11989.32319398],\n",
       "       [ 1841.43009417, 11919.6043214 ]])"
      ]
     },
     "execution_count": 157,
     "metadata": {},
     "output_type": "execute_result"
    }
   ],
   "source": [
    "databack"
   ]
  },
  {
   "cell_type": "code",
   "execution_count": 158,
   "id": "d6803a01",
   "metadata": {},
   "outputs": [
    {
     "data": {
      "image/png": "[encoded data removed]",
      "text/plain": [
       "<Figure size 432x288 with 1 Axes>"
      ]
     },
     "metadata": {},
     "output_type": "display_data"
    }
   ],
   "source": [
    "m,b = np.polyfit(data['X1'],data['X2'],1)\n",
    "data.plot(kind='scatter',x='X1',y='X2',color='red')\n",
    "plt.scatter(databack[:, 0], databack[:, 1], alpha=0.8)\n",
    "plt.plot(data['X1'],data['X1']*m + b)\n",
    "plt.show()"
   ]
  },
  {
   "cell_type": "code",
   "execution_count": 159,
   "id": "1f906758",
   "metadata": {},
   "outputs": [
    {
     "data": {
      "text/plain": [
       "0      2733.840244\n",
       "1      2986.907411\n",
       "2      3239.974578\n",
       "3      3493.041745\n",
       "4      3746.108912\n",
       "5      3999.176079\n",
       "6      4252.243246\n",
       "7      4505.310413\n",
       "8      4758.377580\n",
       "9      5011.444747\n",
       "10     5264.511914\n",
       "11     5517.579081\n",
       "12     5770.646248\n",
       "13     6023.713415\n",
       "14     6276.780582\n",
       "15     6529.847749\n",
       "16     6782.914916\n",
       "17     7035.982083\n",
       "18     7289.049250\n",
       "19     7542.116417\n",
       "20     7795.183583\n",
       "21     8048.250750\n",
       "22     8301.317917\n",
       "23     8554.385084\n",
       "24     8807.452251\n",
       "25     9060.519418\n",
       "26     9313.586585\n",
       "27     9566.653752\n",
       "28     9819.720919\n",
       "29    10072.788086\n",
       "30    10325.855253\n",
       "31    10578.922420\n",
       "32    10831.989587\n",
       "33    11085.056754\n",
       "34    11338.123921\n",
       "35    11591.191088\n",
       "36    11844.258255\n",
       "37    12097.325422\n",
       "38    12350.392589\n",
       "39    12603.459756\n",
       "Name: X1, dtype: float64"
      ]
     },
     "execution_count": 159,
     "metadata": {},
     "output_type": "execute_result"
    }
   ],
   "source": [
    "data['X1']*m + b"
   ]
  },
  {
   "cell_type": "code",
   "execution_count": 160,
   "id": "84e72aa1",
   "metadata": {},
   "outputs": [
    {
     "data": {
      "text/plain": [
       "5.061343339587241"
      ]
     },
     "execution_count": 160,
     "metadata": {},
     "output_type": "execute_result"
    }
   ],
   "source": [
    "m"
   ]
  },
  {
   "cell_type": "code",
   "execution_count": 161,
   "id": "b5f26435",
   "metadata": {},
   "outputs": [
    {
     "data": {
      "text/plain": [
       "5.546434506885929"
      ]
     },
     "execution_count": 161,
     "metadata": {},
     "output_type": "execute_result"
    }
   ],
   "source": [
    "results.components_[0][1]/results.components_[0][0]"
   ]
  },
  {
   "cell_type": "code",
   "execution_count": null,
   "id": "42af6375",
   "metadata": {},
   "outputs": [],
   "source": []
  },
  {
   "cell_type": "code",
   "execution_count": null,
   "id": "e4a05046",
   "metadata": {},
   "outputs": [],
   "source": []
  },
  {
   "cell_type": "markdown",
   "id": "d13f0904",
   "metadata": {},
   "source": [
    "# Decomposing a Matrix"
   ]
  },
  {
   "cell_type": "code",
   "execution_count": 162,
   "id": "94e264f1",
   "metadata": {},
   "outputs": [],
   "source": [
    "import numpy as np\n",
    "A = np.array([[5,4,3],[4,7,2],[3,2,7]])"
   ]
  },
  {
   "cell_type": "code",
   "execution_count": 163,
   "id": "d5a91b2a",
   "metadata": {},
   "outputs": [
    {
     "data": {
      "text/plain": [
       "array([[5, 4, 3],\n",
       "       [4, 7, 2],\n",
       "       [3, 2, 7]])"
      ]
     },
     "execution_count": 163,
     "metadata": {},
     "output_type": "execute_result"
    }
   ],
   "source": [
    "A"
   ]
  },
  {
   "cell_type": "code",
   "execution_count": 164,
   "id": "f5c66745",
   "metadata": {},
   "outputs": [],
   "source": [
    "eval, evec = np.linalg.eig(A)"
   ]
  },
  {
   "cell_type": "code",
   "execution_count": 165,
   "id": "ac0b2ee0",
   "metadata": {},
   "outputs": [],
   "source": [
    "vec1=np.array(evec[:,0])"
   ]
  },
  {
   "cell_type": "code",
   "execution_count": 166,
   "id": "8fd4cc65",
   "metadata": {},
   "outputs": [],
   "source": [
    "vec2 = np.array(evec[:,1])"
   ]
  },
  {
   "cell_type": "code",
   "execution_count": 167,
   "id": "492edeb0",
   "metadata": {},
   "outputs": [],
   "source": [
    "vec3=np.array(evec[:,2])"
   ]
  },
  {
   "cell_type": "code",
   "execution_count": 168,
   "id": "8745cda8",
   "metadata": {},
   "outputs": [
    {
     "data": {
      "text/plain": [
       "array([[3.88732586, 4.31353798, 3.78535971],\n",
       "       [4.31353798, 4.78648062, 4.20039211],\n",
       "       [3.78535971, 4.20039211, 3.68606817]])"
      ]
     },
     "execution_count": 168,
     "metadata": {},
     "output_type": "execute_result"
    }
   ],
   "source": [
    "mat1 = eval[0]*np.dot(vec1[:,None],vec1[None,:])\n",
    "mat1"
   ]
  },
  {
   "cell_type": "code",
   "execution_count": 169,
   "id": "90e3fb0c",
   "metadata": {},
   "outputs": [
    {
     "data": {
      "text/plain": [
       "array([[ 1.05123468, -0.64745071, -0.34176106],\n",
       "       [-0.64745071,  0.39876197,  0.2104891 ],\n",
       "       [-0.34176106,  0.2104891 ,  0.11110804]])"
      ]
     },
     "execution_count": 169,
     "metadata": {},
     "output_type": "execute_result"
    }
   ],
   "source": [
    "mat2=eval[1]*np.dot(vec2[:,None],vec2[None,:])\n",
    "mat2"
   ]
  },
  {
   "cell_type": "code",
   "execution_count": 170,
   "id": "665ad5cc",
   "metadata": {},
   "outputs": [
    {
     "data": {
      "text/plain": [
       "array([[ 0.06143946,  0.33391273, -0.44359864],\n",
       "       [ 0.33391273,  1.81475741, -2.41088121],\n",
       "       [-0.44359864, -2.41088121,  3.20282379]])"
      ]
     },
     "execution_count": 170,
     "metadata": {},
     "output_type": "execute_result"
    }
   ],
   "source": [
    "mat3=eval[2]*np.dot(vec3[:,None],vec3[None,:])\n",
    "mat3"
   ]
  },
  {
   "cell_type": "code",
   "execution_count": 171,
   "id": "c7737c08",
   "metadata": {},
   "outputs": [
    {
     "data": {
      "text/plain": [
       "array([[5., 4., 3.],\n",
       "       [4., 7., 2.],\n",
       "       [3., 2., 7.]])"
      ]
     },
     "execution_count": 171,
     "metadata": {},
     "output_type": "execute_result"
    }
   ],
   "source": [
    "mat1+mat2+mat3"
   ]
  },
  {
   "cell_type": "markdown",
   "id": "ee26911a",
   "metadata": {},
   "source": [
    "# PCA "
   ]
  },
  {
   "cell_type": "markdown",
   "id": "3cb08ba7",
   "metadata": {},
   "source": [
    "# Toy Example"
   ]
  },
  {
   "cell_type": "code",
   "execution_count": 172,
   "id": "5291bfa0",
   "metadata": {},
   "outputs": [],
   "source": [
    "Y = [[8,4,9,1,5],\n",
    "[9,6,9,5,5],\n",
    "[10,8,9,7,5],\n",
    "[10,5,9,6,5],\n",
    "[5,4,9,2,5],\n",
    "[2,7,9,9,5],\n",
    "[7,5,9,8,6],\n",
    "[3,4,9,8,5],\n",
    "[4,2,9,7,5],\n",
    "[1,4,9,10,5]]\n",
    "columnnames = ['Location','City','Society','Ambience','Vicinity to Airport']\n",
    "rownames = ['House 1','House 2','House 3','House 4','House 5','House 6','House 7','House 8','House 9','House 10'] "
   ]
  },
  {
   "cell_type": "code",
   "execution_count": 173,
   "id": "dc9542fd",
   "metadata": {},
   "outputs": [],
   "source": [
    "Y = [[8,4,9.3,1,5],\n",
    "[9,6,9,5,5],\n",
    "[10,8,9,7,5],\n",
    "[10,5,9,6,5],\n",
    "[5,4,9,2,5],\n",
    "[2,7,9,9,5],\n",
    "[7,5,9,8,6],\n",
    "[3,4,9,8,5],\n",
    "[4,2,9,7,5],\n",
    "[1,4,9.1,10,5]]\n",
    "columnnames = ['Location','City','Society','Ambience','Vicinity to Airport']\n",
    "rownames = ['House 1','House 2','House 3','House 4','House 5','House 6','House 7','House 8','House 9','House 10'] "
   ]
  },
  {
   "cell_type": "code",
   "execution_count": 174,
   "id": "f088c354",
   "metadata": {},
   "outputs": [
    {
     "data": {
      "text/html": [
       "<div>\n",
       "<style scoped>\n",
       "    .dataframe tbody tr th:only-of-type {\n",
       "        vertical-align: middle;\n",
       "    }\n",
       "\n",
       "    .dataframe tbody tr th {\n",
       "        vertical-align: top;\n",
       "    }\n",
       "\n",
       "    .dataframe thead th {\n",
       "        text-align: right;\n",
       "    }\n",
       "</style>\n",
       "<table border=\"1\" class=\"dataframe\">\n",
       "  <thead>\n",
       "    <tr style=\"text-align: right;\">\n",
       "      <th></th>\n",
       "      <th>Location</th>\n",
       "      <th>City</th>\n",
       "      <th>Society</th>\n",
       "      <th>Ambience</th>\n",
       "      <th>Vicinity to Airport</th>\n",
       "    </tr>\n",
       "  </thead>\n",
       "  <tbody>\n",
       "    <tr>\n",
       "      <th>House 1</th>\n",
       "      <td>8</td>\n",
       "      <td>4</td>\n",
       "      <td>9.3</td>\n",
       "      <td>1</td>\n",
       "      <td>5</td>\n",
       "    </tr>\n",
       "    <tr>\n",
       "      <th>House 2</th>\n",
       "      <td>9</td>\n",
       "      <td>6</td>\n",
       "      <td>9.0</td>\n",
       "      <td>5</td>\n",
       "      <td>5</td>\n",
       "    </tr>\n",
       "    <tr>\n",
       "      <th>House 3</th>\n",
       "      <td>10</td>\n",
       "      <td>8</td>\n",
       "      <td>9.0</td>\n",
       "      <td>7</td>\n",
       "      <td>5</td>\n",
       "    </tr>\n",
       "    <tr>\n",
       "      <th>House 4</th>\n",
       "      <td>10</td>\n",
       "      <td>5</td>\n",
       "      <td>9.0</td>\n",
       "      <td>6</td>\n",
       "      <td>5</td>\n",
       "    </tr>\n",
       "    <tr>\n",
       "      <th>House 5</th>\n",
       "      <td>5</td>\n",
       "      <td>4</td>\n",
       "      <td>9.0</td>\n",
       "      <td>2</td>\n",
       "      <td>5</td>\n",
       "    </tr>\n",
       "    <tr>\n",
       "      <th>House 6</th>\n",
       "      <td>2</td>\n",
       "      <td>7</td>\n",
       "      <td>9.0</td>\n",
       "      <td>9</td>\n",
       "      <td>5</td>\n",
       "    </tr>\n",
       "    <tr>\n",
       "      <th>House 7</th>\n",
       "      <td>7</td>\n",
       "      <td>5</td>\n",
       "      <td>9.0</td>\n",
       "      <td>8</td>\n",
       "      <td>6</td>\n",
       "    </tr>\n",
       "    <tr>\n",
       "      <th>House 8</th>\n",
       "      <td>3</td>\n",
       "      <td>4</td>\n",
       "      <td>9.0</td>\n",
       "      <td>8</td>\n",
       "      <td>5</td>\n",
       "    </tr>\n",
       "    <tr>\n",
       "      <th>House 9</th>\n",
       "      <td>4</td>\n",
       "      <td>2</td>\n",
       "      <td>9.0</td>\n",
       "      <td>7</td>\n",
       "      <td>5</td>\n",
       "    </tr>\n",
       "    <tr>\n",
       "      <th>House 10</th>\n",
       "      <td>1</td>\n",
       "      <td>4</td>\n",
       "      <td>9.1</td>\n",
       "      <td>10</td>\n",
       "      <td>5</td>\n",
       "    </tr>\n",
       "  </tbody>\n",
       "</table>\n",
       "</div>"
      ],
      "text/plain": [
       "          Location  City  Society  Ambience  Vicinity to Airport\n",
       "House 1          8     4      9.3         1                    5\n",
       "House 2          9     6      9.0         5                    5\n",
       "House 3         10     8      9.0         7                    5\n",
       "House 4         10     5      9.0         6                    5\n",
       "House 5          5     4      9.0         2                    5\n",
       "House 6          2     7      9.0         9                    5\n",
       "House 7          7     5      9.0         8                    6\n",
       "House 8          3     4      9.0         8                    5\n",
       "House 9          4     2      9.0         7                    5\n",
       "House 10         1     4      9.1        10                    5"
      ]
     },
     "execution_count": 174,
     "metadata": {},
     "output_type": "execute_result"
    }
   ],
   "source": [
    "import pandas as pd\n",
    "Y = pd.DataFrame(Y, columns = columnnames, index=rownames)\n",
    "Y"
   ]
  },
  {
   "cell_type": "code",
   "execution_count": 175,
   "id": "96f3cafd",
   "metadata": {},
   "outputs": [],
   "source": [
    "from sklearn.decomposition import PCA\n",
    "pca = PCA(n_components=3) \n",
    "results = pca.fit(Y) "
   ]
  },
  {
   "cell_type": "code",
   "execution_count": 176,
   "id": "2012bc8d",
   "metadata": {},
   "outputs": [
    {
     "data": {
      "text/plain": [
       "array([[-8.07994134e-01, -1.05062835e-01, -5.83839315e-03,\n",
       "         5.79717839e-01,  6.48937309e-04],\n",
       "       [-4.50817104e-01, -5.22436123e-01,  1.81668579e-02,\n",
       "        -7.22798236e-01, -3.25132532e-02],\n",
       "       [-3.77053171e-01,  8.45045448e-01,  7.00643954e-03,\n",
       "        -3.72226785e-01, -7.16046630e-02]])"
      ]
     },
     "execution_count": 176,
     "metadata": {},
     "output_type": "execute_result"
    }
   ],
   "source": [
    "results.components_"
   ]
  },
  {
   "cell_type": "code",
   "execution_count": 177,
   "id": "9f90057d",
   "metadata": {},
   "outputs": [
    {
     "data": {
      "text/plain": [
       "-2.7755575615628914e-16"
      ]
     },
     "execution_count": 177,
     "metadata": {},
     "output_type": "execute_result"
    }
   ],
   "source": [
    "results.components_[0]@results.components_[1]"
   ]
  },
  {
   "cell_type": "code",
   "execution_count": 178,
   "id": "28ea40e6",
   "metadata": {},
   "outputs": [
    {
     "data": {
      "text/plain": [
       "array([[-0.808, -0.105, -0.006,  0.58 ,  0.001],\n",
       "       [-0.451, -0.522,  0.018, -0.723, -0.033],\n",
       "       [-0.377,  0.845,  0.007, -0.372, -0.072]])"
      ]
     },
     "execution_count": 178,
     "metadata": {},
     "output_type": "execute_result"
    }
   ],
   "source": [
    "np.round(results.components_,decimals=3)"
   ]
  },
  {
   "cell_type": "code",
   "execution_count": 179,
   "id": "530429ba",
   "metadata": {},
   "outputs": [],
   "source": [
    "Y_new = results.transform(Y)"
   ]
  },
  {
   "cell_type": "code",
   "execution_count": 180,
   "id": "ea5b210d",
   "metadata": {},
   "outputs": [
    {
     "data": {
      "text/plain": [
       "PCA(n_components=3)"
      ]
     },
     "execution_count": 180,
     "metadata": {},
     "output_type": "execute_result"
    }
   ],
   "source": [
    "results"
   ]
  },
  {
   "cell_type": "code",
   "execution_count": null,
   "id": "0e0dd59f",
   "metadata": {},
   "outputs": [],
   "source": []
  },
  {
   "cell_type": "code",
   "execution_count": 181,
   "id": "34a23505",
   "metadata": {
    "scrolled": true
   },
   "outputs": [
    {
     "data": {
      "text/plain": [
       "array([[-4.67631855,  3.36228195,  0.42943154],\n",
       "       [-3.37381548, -1.0300504 ,  0.25146019],\n",
       "       [-3.23249961, -3.97133622,  0.82004435],\n",
       "       [-3.49702894, -1.68122962, -1.34286521],\n",
       "       [-1.67086679,  3.98648497,  1.18626233],\n",
       "       [ 4.49595198, -1.28795974,  2.2469707 ],\n",
       "       [ 0.08703807, -1.80688803, -1.02776393],\n",
       "       [ 3.42342851,  0.55132976, -0.29299203],\n",
       "       [ 2.2458422 ,  1.86818314, -1.98790931],\n",
       "       [ 6.19826861,  0.00918418, -0.28263861]])"
      ]
     },
     "execution_count": 181,
     "metadata": {},
     "output_type": "execute_result"
    }
   ],
   "source": [
    "Y_new"
   ]
  },
  {
   "cell_type": "code",
   "execution_count": 182,
   "id": "2b69e917",
   "metadata": {},
   "outputs": [
    {
     "data": {
      "text/plain": [
       "array([[ 1.49026678e+01, -4.37654044e-15, -1.22956816e-15],\n",
       "       [-4.37654044e-15,  6.17487692e+00, -3.77044319e-15],\n",
       "       [-1.22956816e-15, -3.77044319e-15,  1.59481223e+00]])"
      ]
     },
     "execution_count": 182,
     "metadata": {},
     "output_type": "execute_result"
    }
   ],
   "source": [
    "np.cov(Y_new.T)"
   ]
  },
  {
   "cell_type": "code",
   "execution_count": 183,
   "id": "eb1c214d",
   "metadata": {},
   "outputs": [
    {
     "data": {
      "text/plain": [
       "array([[-4.676,  3.362,  0.429],\n",
       "       [-3.374, -1.03 ,  0.251],\n",
       "       [-3.232, -3.971,  0.82 ],\n",
       "       [-3.497, -1.681, -1.343],\n",
       "       [-1.671,  3.986,  1.186],\n",
       "       [ 4.496, -1.288,  2.247],\n",
       "       [ 0.087, -1.807, -1.028],\n",
       "       [ 3.423,  0.551, -0.293],\n",
       "       [ 2.246,  1.868, -1.988],\n",
       "       [ 6.198,  0.009, -0.283]])"
      ]
     },
     "execution_count": 183,
     "metadata": {},
     "output_type": "execute_result"
    }
   ],
   "source": [
    "#Check the new features\n",
    "np.round(Y_new,decimals=3)"
   ]
  },
  {
   "cell_type": "code",
   "execution_count": 184,
   "id": "09cd1831",
   "metadata": {},
   "outputs": [
    {
     "data": {
      "text/plain": [
       "array([[8.  , 4.  , 9.13, 1.  , 4.96],\n",
       "       [9.  , 6.01, 9.04, 5.  , 5.11],\n",
       "       [9.99, 8.01, 8.99, 6.99, 5.17],\n",
       "       [9.99, 5.01, 9.02, 5.99, 5.25],\n",
       "       [5.01, 4.  , 9.13, 2.01, 4.88],\n",
       "       [2.  , 7.  , 9.01, 9.  , 4.98],\n",
       "       [7.03, 4.97, 9.  , 8.04, 5.23],\n",
       "       [3.  , 4.  , 9.03, 8.  , 5.11],\n",
       "       [3.99, 2.01, 9.05, 6.99, 5.18],\n",
       "       [0.99, 4.01, 9.  , 9.99, 5.12]])"
      ]
     },
     "execution_count": 184,
     "metadata": {},
     "output_type": "execute_result"
    }
   ],
   "source": [
    "original = results.inverse_transform(Y_new)\n",
    "np.round(original,2)\n",
    "#see that the column with no variance has been returned as it is"
   ]
  },
  {
   "cell_type": "code",
   "execution_count": 185,
   "id": "3a749878",
   "metadata": {},
   "outputs": [
    {
     "data": {
      "text/plain": [
       "array([14.90266784,  6.17487692,  1.59481223])"
      ]
     },
     "execution_count": 185,
     "metadata": {},
     "output_type": "execute_result"
    }
   ],
   "source": [
    "eigenvalues = results.explained_variance_\n",
    "eigenvalues"
   ]
  },
  {
   "cell_type": "code",
   "execution_count": 186,
   "id": "2cf4f783",
   "metadata": {},
   "outputs": [
    {
     "data": {
      "text/plain": [
       "array([[-0.81, -0.11, -0.01,  0.58,  0.  ],\n",
       "       [-0.45, -0.52,  0.02, -0.72, -0.03],\n",
       "       [-0.38,  0.85,  0.01, -0.37, -0.07]])"
      ]
     },
     "execution_count": 186,
     "metadata": {},
     "output_type": "execute_result"
    }
   ],
   "source": [
    "eigenvectors = results.components_\n",
    "np.round(eigenvectors,2)\n",
    "#one can notice that for third feature, the contribution of 'Society' feature is zero in all three eigenvectors because ???\n",
    "#Also, for the 'fifth' feature, i.e. 'Vicinity to airport', the contribution is less because there is very less variance in the data for that feature"
   ]
  },
  {
   "cell_type": "code",
   "execution_count": 187,
   "id": "bb701cbf",
   "metadata": {},
   "outputs": [
    {
     "data": {
      "text/plain": [
       "array([0.655, 0.271, 0.07 ])"
      ]
     },
     "execution_count": 187,
     "metadata": {},
     "output_type": "execute_result"
    }
   ],
   "source": [
    "np.round(results.explained_variance_ratio_,3)"
   ]
  }
 ],
 "metadata": {
  "kernelspec": {
   "display_name": "Python 3 (ipykernel)",
   "language": "python",
   "name": "python3"
  },
  "language_info": {
   "codemirror_mode": {
    "name": "ipython",
    "version": 3
   },
   "file_extension": ".py",
   "mimetype": "text/x-python",
   "name": "python",
   "nbconvert_exporter": "python",
   "pygments_lexer": "ipython3",
   "version": "3.7.9"
  }
 },
 "nbformat": 4,
 "nbformat_minor": 5
}
